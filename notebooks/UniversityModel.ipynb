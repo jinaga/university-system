{
 "cells": [
  {
   "cell_type": "markdown",
   "metadata": {},
   "source": [
    "# University System Model\n",
    "\n",
    "This model represents the various processes and entities involved in managing course registrations at a university. Below is a detailed explanation of each component and the consequences of the decisions that went into the development of this model.\n",
    "\n",
    "Before we begin, we need to reference the Jinaga packages."
   ]
  },
  {
   "cell_type": "code",
   "execution_count": null,
   "metadata": {
    "dotnet_interactive": {
     "language": "csharp"
    },
    "polyglot_notebook": {
     "kernelName": "csharp"
    }
   },
   "outputs": [],
   "source": [
    "#r \"nuget: Jinaga, 1.1.15\"\n",
    "#r \"nuget: Jinaga.UnitTest, 1.1.2\"\n",
    "#r \"nuget: Jinaga.Notebooks, 1.1.3\""
   ]
  },
  {
   "cell_type": "code",
   "execution_count": null,
   "metadata": {
    "dotnet_interactive": {
     "language": "csharp"
    },
    "polyglot_notebook": {
     "kernelName": "csharp"
    }
   },
   "outputs": [],
   "source": [
    "using Jinaga;\n",
    "using Jinaga.Notebooks;\n",
    "using Jinaga.UnitTest;\n",
    "using Jinaga.Extensions;"
   ]
  },
  {
   "cell_type": "markdown",
   "metadata": {},
   "source": [
    "## Facts\n",
    "\n",
    "The model is made of historical facts. Each fact is a record of a person, entity, or decision that pertains to the system.\n",
    "\n",
    "### Application and Enrollment\n",
    "\n",
    "- **Student**: Represents each student at the university. Each student has a unique identifier (public key).\n",
    "- **Organization**: Represents the university itself or any other educational institution within the system.\n",
    "- **Application**: When a student applies to the university, an application record is created. This links the student to the organization and includes the date of application.\n",
    "- **Enrollment**: If the application is accepted, an enrollment record is created, indicating that the student is now enrolled in the university."
   ]
  },
  {
   "cell_type": "code",
   "execution_count": null,
   "metadata": {
    "dotnet_interactive": {
     "language": "csharp"
    },
    "polyglot_notebook": {
     "kernelName": "csharp"
    }
   },
   "outputs": [],
   "source": [
    "[FactType(\"University.Student\")]\n",
    "public record Student(string publicKey);\n",
    "\n",
    "[FactType(\"University.Organization\")]\n",
    "public record Organization(string identifier);\n",
    "\n",
    "[FactType(\"University.Application\")]\n",
    "public record Application(Student student, Organization organization, DateTime appliedAt);\n",
    "\n",
    "[FactType(\"University.Enrollment\")]\n",
    "public record Enrollment(Application application);\n",
    "\n",
    "[FactType(\"University.Rejection\")]\n",
    "public record Rejection(Application application);\n",
    "\n",
    "Renderer.RenderTypes(typeof(Application), typeof(Enrollment), typeof(Rejection))"
   ]
  },
  {
   "cell_type": "markdown",
   "metadata": {},
   "source": [
    "### Curriculum\n",
    "\n",
    "- **Course**: Represents the different courses offered by the university, each with a unique code and name.\n",
    "- **Semester**: Represents the academic terms (e.g., Spring 2022, Fall 2022) during which courses are offered."
   ]
  },
  {
   "cell_type": "code",
   "execution_count": null,
   "metadata": {
    "dotnet_interactive": {
     "language": "csharp"
    },
    "polyglot_notebook": {
     "kernelName": "csharp"
    }
   },
   "outputs": [],
   "source": [
    "[FactType(\"University.Course\")]\n",
    "public record Course(Organization organization, string code, string name);\n",
    "\n",
    "[FactType(\"University.Semester\")]\n",
    "public record Semester(Organization organization, int year, string term);\n",
    "\n",
    "Renderer.RenderTypes(typeof(Course), typeof(Semester))"
   ]
  },
  {
   "cell_type": "markdown",
   "metadata": {},
   "source": [
    "### Instruction\n",
    "\n",
    "- **Instructor**: Represents the faculty members who teach the courses.\n",
    "- **Offering**: Represents a specific instance of a course being offered in a particular semester, taught by a specific instructor. It includes details like the days of the week and the time the course is held.\n",
    "- **Offering Location**: A change to the location of the offering. Each new change refers to the one that it replaces.\n",
    "- **Offering Time**: A change to the time of the offering.\n",
    "- **Offering Instructor**: A change to the instructor of the offering.\n",
    "- **Offering Delete**: The deletion of an offering from the course catalog."
   ]
  },
  {
   "cell_type": "code",
   "execution_count": null,
   "metadata": {
    "dotnet_interactive": {
     "language": "csharp"
    },
    "polyglot_notebook": {
     "kernelName": "csharp"
    }
   },
   "outputs": [],
   "source": [
    "[FactType(\"University.Instructor\")]\n",
    "public record Instructor(Organization organization, string name);\n",
    "\n",
    "[FactType(\"University.Offering\")]\n",
    "public record Offering(Course course, Semester semester, Guid guid)\n",
    "{\n",
    "    public Relation<OfferingLocation> Locations => Relation.Define<OfferingLocation>(() =>\n",
    "        from location in this.Successors().OfType<OfferingLocation>(l => l.offering)\n",
    "        where location.Successors().No<OfferingLocation>(next => next.prior)\n",
    "        select location\n",
    "    );\n",
    "\n",
    "    public Relation<OfferingTime> Times => Relation.Define<OfferingTime>(() =>\n",
    "        from time in this.Successors().OfType<OfferingTime>(t => t.offering)\n",
    "        where time.Successors().No<OfferingTime>(next => next.prior)\n",
    "        select time\n",
    "    );\n",
    "\n",
    "    public Relation<Instructor> Instructors => Relation.Define<Instructor>(() =>\n",
    "        from offeringInstructor in this.Successors().OfType<OfferingInstructor>(oi => oi.offering)\n",
    "        where offeringInstructor.Successors().No<OfferingInstructor>(next => next.prior)\n",
    "        from instructor in offeringInstructor.instructor.Successors().OfType<Instructor>(i => i)\n",
    "        select instructor\n",
    "    );\n",
    "}\n",
    "\n",
    "[FactType(\"University.Offering.Location\")]\n",
    "public record OfferingLocation(Offering offering, string building, string room, OfferingLocation[] prior);\n",
    "\n",
    "[FactType(\"University.Offering.Time\")]\n",
    "public record OfferingTime(Offering offering, string days, string time, OfferingTime[] prior);\n",
    "\n",
    "[FactType(\"University.Offering.Instructor\")]\n",
    "public record OfferingInstructor(Offering offering, Instructor instructor, OfferingInstructor[] prior);\n",
    "\n",
    "[FactType(\"University.Offering.Delete\")]\n",
    "public record OfferingDelete(Offering offering, DateTime deletedAt);\n",
    "\n",
    "Renderer.RenderTypes(typeof(Instructor), typeof(Offering), typeof(OfferingLocation), typeof(OfferingTime), typeof(OfferingInstructor), typeof(OfferingDelete))"
   ]
  },
  {
   "cell_type": "markdown",
   "metadata": {},
   "source": [
    "### Registrations and Outcomes\n",
    "\n",
    "- **Registration**: When a student enrolls in a course offering, a registration record is created. This links the student's enrollment to the specific course offering.\n",
    "- **Drop**: If a student decides to drop a course, a drop record is created.\n",
    "- **Fail**: If a student fails a course, a fail record is created with the grade.\n",
    "- **Complete**: If a student successfully completes a course, a complete record is created with the grade."
   ]
  },
  {
   "cell_type": "code",
   "execution_count": null,
   "metadata": {
    "dotnet_interactive": {
     "language": "csharp"
    },
    "polyglot_notebook": {
     "kernelName": "csharp"
    }
   },
   "outputs": [],
   "source": [
    "[FactType(\"University.Registration\")]\n",
    "public record Registration(Enrollment enrollment, Offering offering);\n",
    "\n",
    "[FactType(\"University.Drop\")]\n",
    "public record Drop(Registration registration);\n",
    "\n",
    "[FactType(\"University.Fail\")]\n",
    "public record Fail(Registration registration, int grade);\n",
    "\n",
    "[FactType(\"University.Complete\")]\n",
    "public record Complete(Registration registration, int grade);\n",
    "\n",
    "Renderer.RenderTypes(typeof(Registration), typeof(Drop), typeof(Fail), typeof(Complete))"
   ]
  },
  {
   "cell_type": "markdown",
   "metadata": {},
   "source": [
    "## Practical Example\n",
    "\n",
    "Let's construct some facts to illustrate the development of curriculum by the university. We will initialize a student fact, and populate a set of courses."
   ]
  },
  {
   "cell_type": "code",
   "execution_count": null,
   "metadata": {
    "dotnet_interactive": {
     "language": "csharp"
    },
    "polyglot_notebook": {
     "kernelName": "csharp"
    }
   },
   "outputs": [],
   "source": [
    "var j = JinagaTest.Create();\n",
    "\n",
    "var university = await j.Fact(new Organization(\"6003\"));\n",
    "var student = await j.Fact(new Student(\"---PUBLIC KEY---\"));\n",
    "var application = await j.Fact(new Application(student, university, DateTime.Parse(\"2022-02-04\")));\n",
    "var enrollment = await j.Fact(new Enrollment(application));\n",
    "\n",
    "List<Course> courses = [\n",
    "    await j.Fact(new Course(university, \"CS 101\", \"Introduction to Computer Science\")),\n",
    "    await j.Fact(new Course(university, \"CS 201\", \"Data Structures and Algorithms\")),\n",
    "    await j.Fact(new Course(university, \"CS 301\", \"Software Engineering\")),\n",
    "    await j.Fact(new Course(university, \"CS 401\", \"Artificial Intelligence\")),\n",
    "    await j.Fact(new Course(university, \"CS 501\", \"Machine Learning\")),\n",
    "    await j.Fact(new Course(university, \"CS 601\", \"Quantum Computing\"))\n",
    "];"
   ]
  },
  {
   "cell_type": "markdown",
   "metadata": {},
   "source": [
    "Next, we will staff the university with instructors and create course offerings. Based on this history, we can generate a course catalog for the upcoming semester."
   ]
  },
  {
   "cell_type": "code",
   "execution_count": null,
   "metadata": {
    "dotnet_interactive": {
     "language": "csharp"
    },
    "polyglot_notebook": {
     "kernelName": "csharp"
    }
   },
   "outputs": [],
   "source": [
    "List<Instructor> instructors = [\n",
    "    await j.Fact(new Instructor(university, \"Dr. Smith\")),\n",
    "    await j.Fact(new Instructor(university, \"Dr. Jones\")),\n",
    "    await j.Fact(new Instructor(university, \"Dr. Lee\")),\n",
    "    await j.Fact(new Instructor(university, \"Dr. Kim\")),\n",
    "    await j.Fact(new Instructor(university, \"Dr. Patel\")),\n",
    "    await j.Fact(new Instructor(university, \"Dr. Singh\"))\n",
    "];\n",
    "\n",
    "List<Semester> semesters = [\n",
    "    await j.Fact(new Semester(university, 2022, \"Spring\")),\n",
    "    await j.Fact(new Semester(university, 2022, \"Summer\")),\n",
    "    await j.Fact(new Semester(university, 2022, \"Fall\")),\n",
    "    await j.Fact(new Semester(university, 2023, \"Spring\")),\n",
    "    await j.Fact(new Semester(university, 2023, \"Summer\")),\n",
    "    await j.Fact(new Semester(university, 2023, \"Fall\"))\n",
    "];\n",
    "\n",
    "var random = new Random(29693);\n",
    "\n",
    "List<Offering> offerings = new List<Offering>();\n",
    "string[] possibleDays = new string[] { \"MF\", \"TTr\", \"MW\", \"WF\" };\n",
    "string[] possibleBuildings = new string[] { \"Building A\", \"Building B\", \"Building C\", \"Building D\" };\n",
    "string[] possibleRooms = new string[] { \"101\", \"102\", \"103\", \"104\" };\n",
    "for (int i = 0; i < 100; i++)\n",
    "{\n",
    "    var course = courses[random.Next(courses.Count)];\n",
    "    var semester = semesters[random.Next(semesters.Count)];\n",
    "    var instructor = instructors[random.Next(instructors.Count)];\n",
    "    var days = possibleDays[random.Next(possibleDays.Length)];\n",
    "    var time = (8 + random.Next(12)).ToString() + \":00\";\n",
    "    var building = possibleBuildings[random.Next(possibleBuildings.Length)];\n",
    "    var room = possibleRooms[random.Next(possibleRooms.Length)];\n",
    "    var offering = await j.Fact(new Offering(course, semester, Guid.NewGuid()));\n",
    "    await j.Fact(new OfferingLocation(offering, building, room, new OfferingLocation[0]));\n",
    "    await j.Fact(new OfferingTime(offering, days, time, new OfferingTime[0]));\n",
    "    await j.Fact(new OfferingInstructor(offering, instructor, new OfferingInstructor[0]));\n",
    "    offerings.Add(offering);\n",
    "}"
   ]
  },
  {
   "cell_type": "markdown",
   "metadata": {},
   "source": [
    "### Specification\n",
    "\n",
    "We now have enough information to generate a projection. Let's define a specification that gives us a list of courses offered in the upcoming semester."
   ]
  },
  {
   "cell_type": "code",
   "execution_count": null,
   "metadata": {
    "dotnet_interactive": {
     "language": "csharp"
    },
    "polyglot_notebook": {
     "kernelName": "csharp"
    }
   },
   "outputs": [],
   "source": [
    "// List offerings for the current semester\n",
    "var offeringsForSemester = Given<Semester>.Match(semester =>\n",
    "    from offering in semester.Successors().OfType<Offering>(o => o.semester)\n",
    "    from course in offering.course.Successors().OfType<Course>(c => c)\n",
    "    select new\n",
    "    {\n",
    "        CourseCode = course.code,\n",
    "        CourseName = course.name,\n",
    "        Instructors = offering.Instructors.Select(i => i.name),\n",
    "        Locations = offering.Locations.Select(l => new\n",
    "        {\n",
    "            building = l.building,\n",
    "            room = l.room\n",
    "        }),\n",
    "        Times = offering.Times.Select(t => new\n",
    "        {\n",
    "            days = t.days,\n",
    "            time = t.time\n",
    "        })\n",
    "    });\n",
    "var currentSemester = semesters[1];\n",
    "var offeringsThisSemester = await j.Query(offeringsForSemester, currentSemester);\n",
    "\n",
    "offeringsThisSemester\n",
    "    .Select(o => new {\n",
    "        o.CourseCode,\n",
    "        o.CourseName,\n",
    "        Instructor = o.Instructors.FirstOrDefault(),\n",
    "        Location = o.Locations.Select(l => l.building + \" \" + l.room).FirstOrDefault(),\n",
    "        Time = o.Times.Select(t => t.days + \" \" + t.time).FirstOrDefault()\n",
    "    })\n",
    "    .AsTable()"
   ]
  },
  {
   "cell_type": "markdown",
   "metadata": {},
   "source": [
    "Each row in this projection is based on an offering. Some values -- course and semester -- are intrinsic to that offering. Others -- instructor, location, and time -- come from related facts.\n",
    "\n",
    "Intrinsic values cannot be changed. If you were to register for an offering of CS 101 and find yourself in CS 201, you would rightly believe that was a different offering.\n",
    "\n",
    "On the other hand, values from related facts can be changed. If you signed up for Dr. Patel's CS 101 course and then found that Dr. Lee was teaching it, you would recognize that the university simply changed the instructor for the offering.\n",
    "\n",
    "Intrinsic values are part of the identity of the offering. Truth be told, they are the entire identity. If two offerings have the same intrinsic values, then they are in fact the same offering. For this reason, we've added a GUID to the offering. This allows us to have multiple offerings of the same course in the same semester.\n",
    "\n",
    "For example, Dr. Patel and Dr. Jones are both teaching the \"Introduction to Computer Science\" course in the Spring 2022 semester. The historical model shows two offerings of the same course in the same semester, just with different GUIDs."
   ]
  },
  {
   "cell_type": "code",
   "execution_count": null,
   "metadata": {
    "dotnet_interactive": {
     "language": "csharp"
    },
    "polyglot_notebook": {
     "kernelName": "csharp"
    }
   },
   "outputs": [],
   "source": [
    "j.RenderFacts(offerings.Where(o => o.semester == currentSemester && o.course.code == \"CS 101\").Take(2))"
   ]
  },
  {
   "cell_type": "markdown",
   "metadata": {},
   "source": [
    "### Student Enrollment and Registration\n",
    "\n",
    "Imagine a student named Alice applies to the university. Her application is accepted, and she enrolls in the university. She then registers for a course called \"Introduction to Computer Science\" in the Summer 2022 semester. Alice completes the course with a grade of 93."
   ]
  },
  {
   "cell_type": "code",
   "execution_count": null,
   "metadata": {
    "dotnet_interactive": {
     "language": "csharp"
    },
    "polyglot_notebook": {
     "kernelName": "csharp"
    }
   },
   "outputs": [],
   "source": [
    "var registration = await j.Fact(new Registration(enrollment, offerings[0]));\n",
    "var complete = await j.Fact(new Complete(registration, 93));\n",
    "j.RenderFacts(complete)"
   ]
  },
  {
   "cell_type": "markdown",
   "metadata": {},
   "source": [
    "The specification for offerings in a semester can be expressed in Factual. This format helps replicas to understand which facts their peers are interested in."
   ]
  },
  {
   "cell_type": "code",
   "execution_count": null,
   "metadata": {
    "dotnet_interactive": {
     "language": "csharp"
    },
    "polyglot_notebook": {
     "kernelName": "csharp"
    }
   },
   "outputs": [],
   "source": [
    "offeringsForSemester.ToString()"
   ]
  },
  {
   "cell_type": "markdown",
   "metadata": {},
   "source": [
    "## Application Components\n",
    "\n",
    "The application is composed of client apps, functions, and services that produce and consume data. These components are distributed to different areas of the network in order to move them closer to the users that they serve, and isolate them from unwanted actors. The primary components are:\n",
    "\n",
    "- **Student Portal**, where students register for courses and access their course history\n",
    "- **Course Search Index**, which serves the student portal by providing access to the complete catalog of course offerings\n",
    "- **Curriculum Provider Integration**, with which training organizations and partners manage course materials\n",
    "- **Transcript Access**, where partnering universities obtain student course history and credentials\n",
    "\n",
    "For each of these components, we can define a set of specifications that describe the data that they are interested in. These specifications control the distribution of data through the network.\n",
    "\n",
    "### Student Portal\n",
    "\n",
    "A student logs into the student portal to see their current and past course registrations. The presentation of this information might take the view of a schedule for the current semester. Or it might be presented as a transcript of past course completion. In either case, the specification for this information begins with the student and includes all registrations, offerings, and courses.\n",
    "\n",
    "The schedule is produced based on a given student and semester. Find all registrations that have not been dropped. Then find the offerings of those registrations that are in the current semester. For each one, project information about the course and instructor."
   ]
  },
  {
   "cell_type": "code",
   "execution_count": null,
   "metadata": {
    "dotnet_interactive": {
     "language": "csharp"
    },
    "polyglot_notebook": {
     "kernelName": "csharp"
    }
   },
   "outputs": [],
   "source": [
    "var currentSemesterSchedule = Given<Student, Semester>.Match((student, semester) =>\n",
    "    from registration in student.Successors().OfType<Registration>(registration => registration.enrollment.application.student)\n",
    "    where registration.Successors().No<Drop>(drop => drop.registration)\n",
    "    from offering in registration.offering.Successors().OfType<Offering>(offering => offering)\n",
    "    where offering.semester == semester\n",
    "    from course in offering.course.Successors().OfType<Course>(course => course)\n",
    "    select new\n",
    "    {\n",
    "        CourseCode = course.code,\n",
    "        CourseName = course.name,\n",
    "        Instructors = offering.Instructors.Select(i => i.name),\n",
    "        Times = offering.Times.Select(t => new\n",
    "        {\n",
    "            days = t.days,\n",
    "            time = t.time\n",
    "        }),\n",
    "        Locations = offering.Locations.Select(l => new\n",
    "        {\n",
    "            building = l.building,\n",
    "            room = l.room\n",
    "        })\n",
    "    });\n",
    "currentSemesterSchedule.ToString()"
   ]
  },
  {
   "cell_type": "markdown",
   "metadata": {},
   "source": [
    "The student portal will also display the history of course completions. One view will show all of the completed courses and their final grades."
   ]
  },
  {
   "cell_type": "code",
   "execution_count": null,
   "metadata": {
    "dotnet_interactive": {
     "language": "csharp"
    },
    "polyglot_notebook": {
     "kernelName": "csharp"
    }
   },
   "outputs": [],
   "source": [
    "var completedCourses = Given<Student>.Match(student =>\n",
    "    from complete in student.Successors().OfType<Complete>(complete => complete.registration.enrollment.application.student)\n",
    "    from course in complete.registration.offering.course.Successors().OfType<Course>(course => course)\n",
    "    select new\n",
    "    {\n",
    "        CourseCode = course.code,\n",
    "        CourseName = course.name,\n",
    "        Grade = complete.grade\n",
    "    });\n",
    "completedCourses.ToString()"
   ]
  },
  {
   "cell_type": "markdown",
   "metadata": {},
   "source": [
    "### Course Search Index\n",
    "\n",
    "While students are using the registration portal, they need quick access to the current semester's course catalog. They might want to search by course code, description, or instructor. A search index is the best tool for this job.\n",
    "\n",
    "To manage the search index, an application component will insert, update, and delete records as new facts become available. It will use a new fact to keep track of the records it is managing."
   ]
  },
  {
   "cell_type": "code",
   "execution_count": null,
   "metadata": {
    "dotnet_interactive": {
     "language": "csharp"
    },
    "polyglot_notebook": {
     "kernelName": "csharp"
    }
   },
   "outputs": [],
   "source": [
    "[FactType(\"SearchIndex.Record\")]\n",
    "public record SearchIndexRecord(Offering offering, Guid recordId);\n",
    "\n",
    "Renderer.RenderTypes(typeof(SearchIndexRecord))"
   ]
  },
  {
   "cell_type": "markdown",
   "metadata": {},
   "source": [
    "The indexer component uses a specification to look for offerings of a given semester that have not yet been indexed. When it finds them, it inserts a record into the index. Then it records the ID of that new record."
   ]
  },
  {
   "cell_type": "code",
   "execution_count": null,
   "metadata": {
    "dotnet_interactive": {
     "language": "csharp"
    },
    "polyglot_notebook": {
     "kernelName": "csharp"
    }
   },
   "outputs": [],
   "source": [
    "class SearchRecord\n",
    "{\n",
    "    public string CourseCode { get; init; }\n",
    "    public string CourseName { get; init; }\n",
    "    public string Days { get; set; }\n",
    "    public string Time { get; set; }\n",
    "    public string Instructor { get; set; }\n",
    "    public string Location { get; set; }\n",
    "}\n",
    "Dictionary<Guid, SearchRecord> index = new Dictionary<Guid, SearchRecord>();\n",
    "\n",
    "var offeringsToIndex = Given<Semester>.Match(semester =>\n",
    "    from offering in semester.Successors().OfType<Offering>(offering => offering.semester)\n",
    "    where offering.Successors().No<OfferingDelete>(deleted => deleted.offering)\n",
    "    where offering.Successors().No<SearchIndexRecord>(record => record.offering)\n",
    "    select offering);\n",
    "var indexInsertSubscription = j.Subscribe(offeringsToIndex, currentSemester, async offering =>\n",
    "{\n",
    "    // Create a record for the offering\n",
    "    var recordId = Guid.NewGuid();\n",
    "    index[recordId] = new SearchRecord\n",
    "    {\n",
    "        CourseCode = offering.course.code,\n",
    "        CourseName = offering.course.name,\n",
    "        Days = \"TBA\",\n",
    "        Time = \"TBA\",\n",
    "        Instructor = \"TBA\",\n",
    "        Location = \"TBA\"\n",
    "    };\n",
    "    await j.Fact(new SearchIndexRecord(offering, recordId));\n",
    "});\n",
    "\n",
    "offeringsToIndex.ToString()"
   ]
  },
  {
   "cell_type": "markdown",
   "metadata": {},
   "source": [
    "The indexer is subscribing to the specification. That causes it to hold a persistent connection to its upstream replicator. The replicator will send any new offers to the indexer for it to process immediately.\n",
    "\n",
    "The indexer's specification filters out any offerings that have already been added to the index. This effectively pops the work off the queue once it has been completed.\n",
    "\n",
    "We can see the resulting records in the search index. Only the intrinsic properties are populated at this point."
   ]
  },
  {
   "cell_type": "code",
   "execution_count": null,
   "metadata": {
    "dotnet_interactive": {
     "language": "csharp"
    },
    "polyglot_notebook": {
     "kernelName": "csharp"
    }
   },
   "outputs": [],
   "source": [
    "index.Values.AsTable()"
   ]
  },
  {
   "cell_type": "markdown",
   "metadata": {},
   "source": [
    "And we can see the facts keeping track of those records in the replica."
   ]
  },
  {
   "cell_type": "code",
   "execution_count": null,
   "metadata": {
    "dotnet_interactive": {
     "language": "csharp"
    },
    "polyglot_notebook": {
     "kernelName": "csharp"
    }
   },
   "outputs": [],
   "source": [
    "var recordsCreatedInSemester = Given<Semester>.Match(semester =>\n",
    "    from record in semester.Successors().OfType<SearchIndexRecord>(record => record.offering.semester)\n",
    "    select record);\n",
    "var currentRecords = await j.Query(recordsCreatedInSemester, currentSemester);\n",
    "j.RenderFacts(currentRecords[0])"
   ]
  },
  {
   "cell_type": "markdown",
   "metadata": {},
   "source": [
    "### Index Record Update\n",
    "\n",
    "The search index does not yet have the offering instructor, location, or time. Those properties might change at any time, and so they are captured as separate facts. The indexer will use another fact type and specification to keep track of each of those changes and their updates."
   ]
  },
  {
   "cell_type": "code",
   "execution_count": null,
   "metadata": {
    "dotnet_interactive": {
     "language": "csharp"
    },
    "polyglot_notebook": {
     "kernelName": "csharp"
    }
   },
   "outputs": [],
   "source": [
    "[FactType(\"SearchIndex.Record.InstructorUpdate\")]\n",
    "public record SearchIndexRecordInstructorUpdate(SearchIndexRecord record, OfferingInstructor instructor);\n",
    "\n",
    "[FactType(\"SearchIndex.Record.LocationUpdate\")]\n",
    "public record SearchIndexRecordLocationUpdate(SearchIndexRecord record, OfferingLocation location);\n",
    "\n",
    "[FactType(\"SearchIndex.Record.TimeUpdate\")]\n",
    "public record SearchIndexRecordTimeUpdate(SearchIndexRecord record, OfferingTime time);\n",
    "\n",
    "Renderer.RenderTypes(typeof(SearchIndexRecordLocationUpdate), typeof(SearchIndexRecordTimeUpdate), typeof(SearchIndexRecordInstructorUpdate))"
   ]
  },
  {
   "cell_type": "markdown",
   "metadata": {},
   "source": [
    "To find the records that need their location updated, the indexer looks for offerings that have search index records as well as locations, but no corresponding update."
   ]
  },
  {
   "cell_type": "code",
   "execution_count": null,
   "metadata": {
    "dotnet_interactive": {
     "language": "csharp"
    },
    "polyglot_notebook": {
     "kernelName": "csharp"
    }
   },
   "outputs": [],
   "source": [
    "var recordsToUpdateLocation = Given<Semester>.Match(semester =>\n",
    "    from offering in semester.Successors().OfType<Offering>(offering => offering.semester)\n",
    "    from record in offering.Successors().OfType<SearchIndexRecord>(record => record.offering)\n",
    "    from location in offering.Locations\n",
    "    where !(\n",
    "        from update in record.Successors().OfType<SearchIndexRecordLocationUpdate>(update => update.record)\n",
    "        where update.location == location\n",
    "        select update\n",
    "    ).Any()\n",
    "    select new { record, location }\n",
    ");\n",
    "var indexUpdateSubscription = j.Subscribe(recordsToUpdateLocation, currentSemester, async work =>\n",
    "{\n",
    "    var record = work.record;\n",
    "    var location = work.location;\n",
    "    index[record.recordId].Location = location.building + \" \" + location.room;\n",
    "    await j.Fact(new SearchIndexRecordLocationUpdate(record, location));\n",
    "});\n",
    "\n",
    "recordsToUpdateLocation.ToString()"
   ]
  },
  {
   "cell_type": "markdown",
   "metadata": {},
   "source": [
    "The subscription finds all locations and updates the search records."
   ]
  },
  {
   "cell_type": "code",
   "execution_count": null,
   "metadata": {
    "dotnet_interactive": {
     "language": "csharp"
    },
    "polyglot_notebook": {
     "kernelName": "csharp"
    }
   },
   "outputs": [],
   "source": [
    "index.Values.AsTable()"
   ]
  },
  {
   "cell_type": "markdown",
   "metadata": {},
   "source": [
    "If an offering changes locations, then the search index will be updated in response. Here we will relocate one of the offerings in the current semester."
   ]
  },
  {
   "cell_type": "code",
   "execution_count": null,
   "metadata": {
    "dotnet_interactive": {
     "language": "csharp"
    },
    "polyglot_notebook": {
     "kernelName": "csharp"
    }
   },
   "outputs": [],
   "source": [
    "var offeringAndLocationInSemester = Given<Semester>.Match(semester =>\n",
    "    from offering in semester.Successors().OfType<Offering>(offering => offering.semester)\n",
    "    from location in offering.Locations\n",
    "    select new { offering, location }\n",
    ");\n",
    "var offeringsAndLocations = await j.Query(offeringAndLocationInSemester, currentSemester);\n",
    "await j.Fact(new OfferingLocation(offeringsAndLocations[0].offering, \"Building E\", \"105\", [offeringsAndLocations[0].location]));\n",
    "\n",
    "$\"Relocated {offeringsAndLocations[0].offering.course.code} to Building E 105\""
   ]
  },
  {
   "cell_type": "markdown",
   "metadata": {},
   "source": [
    "The index reflects the new location."
   ]
  },
  {
   "cell_type": "code",
   "execution_count": null,
   "metadata": {
    "dotnet_interactive": {
     "language": "csharp"
    },
    "polyglot_notebook": {
     "kernelName": "csharp"
    }
   },
   "outputs": [],
   "source": [
    "index.Values.AsTable()"
   ]
  },
  {
   "cell_type": "markdown",
   "metadata": {},
   "source": [
    "Using the same strategy, we can update the search index for the instructor and the time."
   ]
  },
  {
   "cell_type": "code",
   "execution_count": null,
   "metadata": {
    "dotnet_interactive": {
     "language": "csharp"
    },
    "polyglot_notebook": {
     "kernelName": "csharp"
    }
   },
   "outputs": [],
   "source": [
    "var recordsToUpdateInstructor = Given<Semester>.Match(semester =>\n",
    "    from offering in semester.Successors().OfType<Offering>(offering => offering.semester)\n",
    "    from record in offering.Successors().OfType<SearchIndexRecord>(record => record.offering)\n",
    "    from instructor in offering.Successors().OfType<OfferingInstructor>(instructor => instructor.offering)\n",
    "    where instructor.Successors().No<OfferingInstructor>(next => next.prior)\n",
    "    where !(\n",
    "        from update in record.Successors().OfType<SearchIndexRecordInstructorUpdate>(update => update.record)\n",
    "        where update.instructor == instructor\n",
    "        select update\n",
    "    ).Any()\n",
    "    select new { record, instructor }\n",
    ");\n",
    "var indexUpdateInstructorSubscription = j.Subscribe(recordsToUpdateInstructor, currentSemester, async work =>\n",
    "{\n",
    "    var record = work.record;\n",
    "    var instructor = work.instructor;\n",
    "    index[record.recordId].Instructor = instructor.instructor.name;\n",
    "    await j.Fact(new SearchIndexRecordInstructorUpdate(record, instructor));\n",
    "});\n",
    "\n",
    "var recordsToUpdateTime = Given<Semester>.Match(semester =>\n",
    "    from offering in semester.Successors().OfType<Offering>(offering => offering.semester)\n",
    "    from record in offering.Successors().OfType<SearchIndexRecord>(record => record.offering)\n",
    "    from time in offering.Times\n",
    "    where !(\n",
    "        from update in record.Successors().OfType<SearchIndexRecordTimeUpdate>(update => update.record)\n",
    "        where update.time == time\n",
    "        select update\n",
    "    ).Any()\n",
    "    select new { record, time }\n",
    ");\n",
    "var indexUpdateTimeSubscription = j.Subscribe(recordsToUpdateTime, currentSemester, async work =>\n",
    "{\n",
    "    var record = work.record;\n",
    "    var time = work.time;\n",
    "    index[record.recordId].Days = time.days;\n",
    "    index[record.recordId].Time = time.time;\n",
    "    await j.Fact(new SearchIndexRecordTimeUpdate(record, time));\n",
    "});"
   ]
  },
  {
   "cell_type": "markdown",
   "metadata": {},
   "source": [
    "These index subscriptions find changes to the instructor and time, thus finishing out the search index."
   ]
  },
  {
   "cell_type": "code",
   "execution_count": null,
   "metadata": {
    "dotnet_interactive": {
     "language": "csharp"
    },
    "polyglot_notebook": {
     "kernelName": "csharp"
    }
   },
   "outputs": [],
   "source": [
    "index.Values.AsTable()"
   ]
  },
  {
   "cell_type": "markdown",
   "metadata": {},
   "source": [
    "Furthermore, if the data changes, they will update the search index to reflect the change."
   ]
  },
  {
   "cell_type": "markdown",
   "metadata": {},
   "source": [
    "### Index Record Deletion\n",
    "\n",
    "If an offering is deleted, the indexer should remove the record from the search index. When it removes the record, it captures that action as a new fact."
   ]
  },
  {
   "cell_type": "code",
   "execution_count": null,
   "metadata": {
    "dotnet_interactive": {
     "language": "csharp"
    },
    "polyglot_notebook": {
     "kernelName": "csharp"
    }
   },
   "outputs": [],
   "source": [
    "[FactType(\"SearchIndex.Record.Delete\")]\n",
    "public record SearchIndexRecordDelete(SearchIndexRecord record, DateTime deletedAt);\n",
    "\n",
    "Renderer.RenderTypes(typeof(SearchIndexRecordDelete))"
   ]
  },
  {
   "cell_type": "markdown",
   "metadata": {},
   "source": [
    "To find work to do, it creates another subscription. It looks for records for offerings that have been deleted."
   ]
  },
  {
   "cell_type": "code",
   "execution_count": null,
   "metadata": {
    "dotnet_interactive": {
     "language": "csharp"
    },
    "polyglot_notebook": {
     "kernelName": "csharp"
    }
   },
   "outputs": [],
   "source": [
    "var recordsToDeleteInSemester = Given<Semester>.Match(semester =>\n",
    "    from record in semester.Successors().OfType<SearchIndexRecord>(record => record.offering.semester)\n",
    "    where record.Successors().No<SearchIndexRecordDelete>(recordDelete => recordDelete.record)\n",
    "    where record.offering.Successors().Any<OfferingDelete>(offeringDelete => offeringDelete.offering)\n",
    "    select record);\n",
    "var indexDeleteSubscription = j.Subscribe(recordsToDeleteInSemester, currentSemester, async record =>\n",
    "{\n",
    "    // Delete the record from the index\n",
    "    index.Remove(record.recordId);\n",
    "    await j.Fact(new SearchIndexRecordDelete(record, DateTime.UtcNow));\n",
    "});\n",
    "\n",
    "recordsToDeleteInSemester.ToString()"
   ]
  },
  {
   "cell_type": "markdown",
   "metadata": {},
   "source": [
    "Now that that subscription is running, we will delete an offering."
   ]
  },
  {
   "cell_type": "code",
   "execution_count": null,
   "metadata": {
    "dotnet_interactive": {
     "language": "csharp"
    },
    "polyglot_notebook": {
     "kernelName": "csharp"
    }
   },
   "outputs": [],
   "source": [
    "var offeringsInSemester = Given<Semester>.Match(semester =>\n",
    "    from offering in semester.Successors().OfType<Offering>(o => o.semester)\n",
    "    select offering);\n",
    "var currentOfferings = await j.Query(offeringsInSemester, currentSemester);\n",
    "await j.Fact(new OfferingDelete(currentOfferings[0], DateTime.UtcNow));"
   ]
  },
  {
   "cell_type": "markdown",
   "metadata": {},
   "source": [
    "That fact triggers the indexer subscription and deletes the record. We can see that there is one fewer record in the index."
   ]
  },
  {
   "cell_type": "code",
   "execution_count": null,
   "metadata": {
    "dotnet_interactive": {
     "language": "csharp"
    },
    "polyglot_notebook": {
     "kernelName": "csharp"
    }
   },
   "outputs": [],
   "source": [
    "index.Values.AsTable()"
   ]
  },
  {
   "cell_type": "markdown",
   "metadata": {},
   "source": [
    "And we can see the deletion fact."
   ]
  },
  {
   "cell_type": "code",
   "execution_count": null,
   "metadata": {
    "dotnet_interactive": {
     "language": "csharp"
    },
    "polyglot_notebook": {
     "kernelName": "csharp"
    }
   },
   "outputs": [],
   "source": [
    "var recordsDeletedInSemester = Given<Semester>.Match(semester =>\n",
    "    from delete in semester.Successors().OfType<SearchIndexRecordDelete>(delete => delete.record.offering.semester)\n",
    "    from offeringDelete in delete.record.offering.Successors().OfType<OfferingDelete>(delete2 => delete2.offering)\n",
    "    select new\n",
    "    {\n",
    "        delete,\n",
    "        offeringDelete\n",
    "    });\n",
    "var currentDeletes = await j.Query(recordsDeletedInSemester, currentSemester);\n",
    "j.RenderFacts(currentDeletes[0])"
   ]
  },
  {
   "cell_type": "markdown",
   "metadata": {},
   "source": [
    "### When Are Indexes Updated?\n",
    "\n",
    "The runtime determines when to update the index. It does so based on the specification. When it learns about a new fact that affects the subscription, it calls the application.\n",
    "\n",
    "When a new fact arrives, the runtime executes a set of inverse specifications. If one returns a result that matches an active subscription, then the runtime knows that subscription was affected. It also knows exactly how that subscription was affected.\n",
    "\n",
    "Here are the inverses of the offerings to index."
   ]
  },
  {
   "cell_type": "code",
   "execution_count": null,
   "metadata": {
    "dotnet_interactive": {
     "language": "csharp"
    },
    "polyglot_notebook": {
     "kernelName": "csharp"
    }
   },
   "outputs": [],
   "source": [
    "string DescribeInverse(Jinaga.Pipelines.Inverse inverse)\n",
    "{\n",
    "    string verb = inverse.Operation == Jinaga.Pipelines.InverseOperation.Add ? \"add\" : \"remove\";\n",
    "    string preposition = inverse.Operation == Jinaga.Pipelines.InverseOperation.Add ? \"to\" : \"from\";\n",
    "    return $\"When {inverse.InverseSpecification}Then {verb} ({inverse.ResultSubset}) {preposition} ({inverse.ParentSubset})\\n\";\n",
    "}\n",
    "\n",
    "string DescribeInversesOf<TFact, TProjection>(Specification<TFact, TProjection> specification)\n",
    "    where TFact : class\n",
    "    where TProjection : class\n",
    "{\n",
    "    return string.Join(\"\\n\", specification.ComputeInverses().Select(DescribeInverse));\n",
    "}\n",
    "\n",
    "DescribeInversesOf(offeringsToIndex)"
   ]
  },
  {
   "cell_type": "markdown",
   "metadata": {},
   "source": [
    "And here are the inverses of records to update location."
   ]
  },
  {
   "cell_type": "code",
   "execution_count": null,
   "metadata": {
    "dotnet_interactive": {
     "language": "csharp"
    },
    "polyglot_notebook": {
     "kernelName": "csharp"
    }
   },
   "outputs": [],
   "source": [
    "DescribeInversesOf(recordsToUpdateLocation)"
   ]
  },
  {
   "cell_type": "markdown",
   "metadata": {},
   "source": [
    "And finally, records to delete."
   ]
  },
  {
   "cell_type": "code",
   "execution_count": null,
   "metadata": {
    "dotnet_interactive": {
     "language": "csharp"
    },
    "polyglot_notebook": {
     "kernelName": "csharp"
    }
   },
   "outputs": [],
   "source": [
    "DescribeInversesOf(recordsToDeleteInSemester)"
   ]
  }
 ],
 "metadata": {
  "kernelspec": {
   "display_name": ".NET (C#)",
   "language": "C#",
   "name": ".net-csharp"
  },
  "polyglot_notebook": {
   "kernelInfo": {
    "defaultKernelName": "csharp",
    "items": [
     {
      "aliases": [],
      "languageName": "csharp",
      "name": "csharp"
     }
    ]
   }
  }
 },
 "nbformat": 4,
 "nbformat_minor": 2
}
